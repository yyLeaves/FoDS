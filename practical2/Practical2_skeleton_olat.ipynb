{
 "cells": [
  {
   "cell_type": "markdown",
   "metadata": {},
   "source": [
    "# Practical 2 : Generative and Discriminative Models\n"
   ]
  },
  {
   "cell_type": "markdown",
   "metadata": {},
   "source": [
    "In this practical, we will compare the Naïve Bayes Classifier (NBC) and Logistic Regression on several\n",
    "datasets. As part of the practical you should read briefly the following paper:\n",
    "\n"
   ]
  },
  {
   "cell_type": "markdown",
   "metadata": {},
   "source": [
    "**On Discriminative vs. Generative classifiers: A comparison of logistic regression\n",
    "and naive Bayes**  \n",
    "*Andrew Y. Ng and Michael I. Jordan*  \n",
    "Advances in Neural Information Processing Systems (NIPS) 2001.\n",
    "\n",
    "The paper is available on OLAT. "
   ]
  },
  {
   "cell_type": "markdown",
   "metadata": {},
   "source": [
    "You should read the Introduction and the Experiments sections. The goal of this practical is\n",
    "to qualitatively reproduce some of the experimental results in this paper. You are strongly\n",
    "encouraged to read the rest of the paper, which is rather short and straightforward to read,\n",
    "though some of you may want to skip the formal proofs."
   ]
  },
  {
   "cell_type": "markdown",
   "metadata": {},
   "source": [
    "## Naïve Bayes Classifier (NBC)"
   ]
  },
  {
   "cell_type": "markdown",
   "metadata": {},
   "source": [
    "You should implement a Naïve Bayes Classifier from scartch using NumPy. To keep your code tidy,\n",
    "we recommend implementing it as a class. \n",
    "The classifier should be able to handle binary and continuous features. \n",
    "To earn the bonus points, the classifier should be able to handle categorical features as well. \n",
    "Suppose the data has 3\n",
    "different features, the first being binary, the second being continuous and the third being categorical. Write an implementation that you can initialise as follows:\n",
    "\n",
    "    nbc = NBC(feature_types=['b', 'r', 'c'])"
   ]
  },
  {
   "cell_type": "markdown",
   "metadata": {},
   "source": [
    "Along the lines of classifiers provided in sklearn, you want to implement two more functions,\n",
    "**fit** and **predict**. \n",
    "Recall the joint distribution of a generative model: $p(\\mathbf{x}, y \\mid \\theta, \\pi) = p(y \\mid \\pi) \\cdot p(\\mathbf{x} \\mid y, \\theta)$.\n",
    "The **fit** function is to estimate all the parameters ($\\theta$ and $\\pi$) of the NBC, i.e., train the classifier. The **predict** function is to compute the probabilities that the new input belongs to all classes and\n",
    "then return the class that has the largest probability, i.e., make the prediction.\n",
    "\n",
    "    nbc.fit(X_train, y_train)\n",
    "    ypredicted = nbc.predict(X_test)\n",
    "    test_accuracy = np.mean(ypredicted == ytest)"
   ]
  },
  {
   "cell_type": "markdown",
   "metadata": {},
   "source": [
    "Here we import the libraries. "
   ]
  },
  {
   "cell_type": "code",
   "execution_count": 1,
   "metadata": {},
   "outputs": [],
   "source": [
    "%matplotlib inline\n",
    "import pylab\n",
    "pylab.rcParams['figure.figsize'] = (10., 10.)\n",
    "\n",
    "import pickle as cp\n",
    "import matplotlib.pyplot as plt\n",
    "import numpy as np\n",
    "from scipy.stats import norm, bernoulli, multinomial\n",
    "EPSILON = 1e-6"
   ]
  },
  {
   "cell_type": "markdown",
   "metadata": {},
   "source": [
    "### Class-conditional distributions\n",
    "\n",
    "Before implementing NBC, we first implement the class-conditional distributions $p(\\mathbf{x} \\mid y, \\theta)$. Your implementation should have two functions: **estimate** and **get_log_probability**. \n",
    "\n",
    "- The **estimate** function takes data as input and models the data using some distribution $p(x \\mid \\theta)$, where $\\theta$ is the parameters of this distribution. The function estimates the parameters $\\theta$ using maximum likelihood estimators (MLE). \n",
    "For example, in the case of continuous features, we use the Gaussian distribution to model the data. The estimate function will find the parameters $\\mu$ and $\\sigma$ for the Gaussian distribution with respect to the input data. \n",
    "\n",
    "- The **get_log_probability** function takes as input a new data point $x_{new}$ and returns the log of $p(x_{new} \\mid \\theta)$. For the Gaussian distribution, the function get_probability will return $\\mathcal{N}(x_{new} \\mid \\mu, \\sigma)$. "
   ]
  },
  {
   "cell_type": "markdown",
   "metadata": {},
   "source": [
    "For different types of features, you need to use different distributions.\n",
    "You can import statistic libraries (e.g., `scipy.stats`) for the implementation of the distributions. \n",
    "\n",
    "- For **continuous features**: Use Gaussian distribution\n",
    "    https://docs.scipy.org/doc/scipy/reference/generated/scipy.stats.norm.html\n",
    "- For **binary features**: Use Bernoulli distribution \n",
    "    https://docs.scipy.org/doc/scipy/reference/generated/scipy.stats.bernoulli.html\n",
    "- For **categorical features**: Use Multinoulli distribution (The multinoulli distribution is a special case of the multinomial distribution, where the number of trials is 1)\n",
    "    https://docs.scipy.org/doc/scipy/reference/generated/scipy.stats.multinomial.html\n",
    "\n"
   ]
  },
  {
   "cell_type": "markdown",
   "metadata": {},
   "source": [
    "**Implementation Issues:**\n",
    "- The probabilities can be very small. To avoid underflow issues, you should compute the log of the probabilities. Read more: (Mur) Chapter 3.5.3 / Lecture Notes\n",
    "- The variance for Gaussian distributions should never be exactly 0, so in\n",
    "case your calculated variance is 0, you may want to set it to a small value such as 1e − 6. This is to ensure that your code never encounters division by zero or\n",
    "taking logarithms of 0 errors. \n",
    "For this practical, please set the small value to 1e-6.\n",
    "- Laplace/Additive smoothing: You want to ensure that the estimates for the parameter for the Bernoulli and Multinoulli random variables is never exactly 0 or 1. For this reason you should consider using Laplace smoothing (https://en.wikipedia.org/wiki/Additive_smoothing).\n",
    "For this practical, please set alpha to 1.\n",
    "- We will check the correctness of your implementation using the tests below.\n",
    "- For simplicity, you can assume the data values for binary features are integers from {0,1} and the data for a categorical feature with M categories are integers from {0, ..., M-1}.\n",
    "- Fell free to add auxiliary functions or change the parameters of the functions. If you change the parameters of the functions, make sure you change the tests accordingly, so we can test your code.\n"
   ]
  },
  {
   "cell_type": "code",
   "execution_count": 47,
   "metadata": {},
   "outputs": [],
   "source": [
    "ALPHA = 1.0 # for additive smoothing\n",
    "\n",
    "# Distribution for continuous features\n",
    "class ContFeatureParam:\n",
    "    def estimate(self, X):\n",
    "        # TODO: Estimate the parameters for the Gaussian distribution \n",
    "        # so that it best describes the input data X\n",
    "        # The code below is just for compilation. \n",
    "        # You need to replace it by your own code.\n",
    "        self.mu = np.mean(X)\n",
    "        self.sigma = max(np.std(X), EPSILON)\n",
    "        return self.mu, self.sigma\n",
    "\n",
    "\n",
    "    def get_log_probability(self, X_new):\n",
    "        # TODO: return the log of the density values for the input values X_new\n",
    "        # The code below is just for compilation. \n",
    "        # You need to replace it by your own code.\n",
    "        return norm.logpdf(X_new, loc=self.mu, scale=self.sigma) \n",
    "\n",
    "\n",
    "# Distribution for binary features\n",
    "class BinFeatureParam:\n",
    "    def estimate(self, X):\n",
    "        # TODO: Estimate the parameters for the Bernoulli distribution \n",
    "        # so that it best describes the input data X\n",
    "        # The code below is just for compilation. \n",
    "        # You need to replace it by your own code.\n",
    "        # X is a vector with binary values\n",
    "        self.p = (np.sum(X) + ALPHA) / (len(X) + 2 * ALPHA)\n",
    "        return self.p\n",
    "\n",
    "\n",
    "    def get_log_probability(self, X_new):\n",
    "        # TODO: return the log of the probability values for the input values X_new\n",
    "        # The code below is just for compilation. \n",
    "        # You need to replace it by your own code.\n",
    "        return bernoulli.logpmf(X_new, p=self.p)\n",
    "\n",
    "\n",
    "# Distribution for categorical features\n",
    "class CatFeatureParam:\n",
    "    \n",
    "    # we need to know the number of categories for the categorical feature\n",
    "    def __init__(self, num_of_categories):\n",
    "        self._num_of_categories = num_of_categories\n",
    "    \n",
    "    def estimate(self, X):\n",
    "        # TODO: Estimate the parameters for the Multinoulli distribution \n",
    "        # so that it best describes the input data X\n",
    "        # The code below is just for compilation. \n",
    "        # You need to replace it by your own code.\n",
    "        # smoothed counts +\n",
    "        # self.p = (np.bincount(X)+ALPHA)/(len(X)+self._num_of_categories*ALPHA)\n",
    "        counts = np.bincount(X, minlength=self._num_of_categories)\n",
    "        self.p = (counts + ALPHA) / (len(X) + self._num_of_categories * ALPHA)\n",
    "        # self.p = [(np.sum(X == i) + ALPHA) / (len(X) + self._num_of_categories * ALPHA) for i in range(self._num_of_categories)]\n",
    "        return self.p\n",
    "\n",
    "        \n",
    "    def get_log_probability(self, X_new):\n",
    "        # TODO: return the log of the probability values for the input values X_new\n",
    "        # The code below is just for compilation. \n",
    "        # You need to replace it by your own code.\n",
    "# - For **categorical features**: Use Multinoulli distribution (The multinoulli distribution is a special case of the multinomial distribution, where the number of trials is 1)\n",
    "#     https://docs.scipy.org/doc/scipy/reference/generated/scipy.stats.multinomial.html \n",
    "        one_hot = np.zeros((len(X_new), self._num_of_categories))\n",
    "        np.put_along_axis(one_hot, X_new[:, None], 1, axis=1)\n",
    "        # print(X_new)\n",
    "        # one_hot = np.zeros((len(X_new), self._num_of_categories))\n",
    "        # for i, x in enumerate(X_new):\n",
    "        #     print(i, x)\n",
    "        #     one_hot[i, x] = 1\n",
    "        return multinomial.logpmf(x=one_hot, n=1, p=self.p)        "
   ]
  },
  {
   "cell_type": "markdown",
   "metadata": {},
   "source": [
    "**Tests:**\n",
    "    \n",
    "We will use the code below to test the correctness of your code."
   ]
  },
  {
   "cell_type": "code",
   "execution_count": 48,
   "metadata": {},
   "outputs": [
    {
     "name": "stdout",
     "output_type": "stream",
     "text": [
      "[-5.64670664 -3.02757918 -1.44567455 -0.90099277]\n"
     ]
    }
   ],
   "source": [
    "# continuous features\n",
    "\n",
    "X = np.array([2.70508547,2.10499698,1.76019132,3.42016431,3.47037973,3.67435061,1.84749286,4.3388506,2.27818252,4.65165335])\n",
    "\n",
    "param = ContFeatureParam()\n",
    "param.estimate(X)\n",
    "probs = param.get_log_probability(np.array([0,1,2,3]))\n",
    "print(probs)"
   ]
  },
  {
   "cell_type": "code",
   "execution_count": 49,
   "metadata": {},
   "outputs": [
    {
     "name": "stdout",
     "output_type": "stream",
     "text": [
      "[-0.87546874 -0.5389965 ]\n"
     ]
    }
   ],
   "source": [
    "# binary features\n",
    "\n",
    "X = np.array([0,0,1,1,0,1,0,1,1,1])\n",
    "\n",
    "param = BinFeatureParam()\n",
    "param.estimate(X)\n",
    "probs = param.get_log_probability(np.array([0,1]))\n",
    "print(probs)"
   ]
  },
  {
   "cell_type": "code",
   "execution_count": 50,
   "metadata": {},
   "outputs": [
    {
     "name": "stdout",
     "output_type": "stream",
     "text": [
      "[0 1 2 3 4 5 6 7 8 9]\n",
      "0 0\n",
      "1 1\n",
      "2 2\n",
      "3 3\n",
      "4 4\n",
      "5 5\n",
      "6 6\n",
      "7 7\n",
      "8 8\n",
      "9 9\n",
      "[-1.94591015 -2.1690537  -1.94591015 -2.45673577 -2.1690537  -2.86220088\n",
      " -1.94591015 -3.55534806 -2.1690537  -2.86220088]\n"
     ]
    }
   ],
   "source": [
    "# categorical features (bonus task)\n",
    "\n",
    "X = np.array([0,6,5,4,0,6,6,4,1,1,2,3,8,8,1,6,4,9,0,2,2,3,8,0,2])\n",
    "\n",
    "param = CatFeatureParam(num_of_categories=10)\n",
    "param.estimate(X)\n",
    "probs = param.get_log_probability(np.array([0,1,2,3,4,5,6,7,8,9]))\n",
    "print(probs)"
   ]
  },
  {
   "cell_type": "markdown",
   "metadata": {},
   "source": [
    "### Implement NBC\n",
    "\n",
    "We are now ready to implement NBC. We follow the structure of models in scikit-learn. We implement NBC as a class with functions **init**, **fit** and **predict**.\n",
    "The **init** function takes as input the types of features and initialise the classifier. The **fit** function takes the training data as input and estimates the parameters. The **predict** function predicts the label for the input data. "
   ]
  },
  {
   "cell_type": "markdown",
   "metadata": {},
   "source": [
    "**Implementation Issues:**\n",
    "- You should use matrix operations rather than loops. In general, loops over classes or features are OK, but loops over the rows of data are not a good idea.\n",
    "- The probabilities can be very small. To avoid underflow issues, you should do the calculations in log space. Read more: (Mur) Chapter 3.5.3 / Lecture Note\n",
    "- For simplicity, you can assume the data values for binary features are integers from {0, 1} and the data for a categorical feature with M categories are integers from {0, ..., M-1}.\n",
    "- Fell free to add auxiliary functions or change the parameters of the functions. If you change the parameters of the functions, make sure you change the tests accordingly, so we can test your code."
   ]
  },
  {
   "cell_type": "code",
   "execution_count": 51,
   "metadata": {},
   "outputs": [],
   "source": [
    "# Your task is to implement the three functions of NBC. \n",
    "\n",
    "class NBC:\n",
    "    # Inputs:\n",
    "    #   feature_types: the array of the types of the features, e.g., feature_types=['b', 'r', 'c']\n",
    "    def __init__(self, feature_types=[]):\n",
    "        # TODO: \n",
    "        # The code below is just for compilation. \n",
    "        # You need to replace it by your own code.\n",
    "        self.feature_types = feature_types\n",
    "        self.feature_params = []\n",
    "        self.type2param = {'r': ContFeatureParam, 'b': BinFeatureParam, 'c': CatFeatureParam}\n",
    "        self.class_prior = {}\n",
    "        ###################################################\n",
    "        ##### YOUR CODE STARTS HERE #######################\n",
    "        #####=##############################################\n",
    "        pass\n",
    "        ###################################################\n",
    "        ##### YOUR CODE ENDS HERE #########################\n",
    "        ###################################################\n",
    "\n",
    "        \n",
    "    # The function uses the input data to estimate all the parameters of the NBC\n",
    "    def fit(self, X, y):\n",
    "        # TODO: \n",
    "        # The code below is just for compilation. \n",
    "        # You need to replace it by your own code.\n",
    "        self.classes = np.unique(y)\n",
    "        self.n_classes = len(self.classes) \n",
    "        self.n_features = len(self.feature_types)\n",
    "\n",
    "\n",
    "        for c in self.classes:\n",
    "            self.class_prior[c] = np.sum(y == c) / len(y)\n",
    "            class_params = []\n",
    "            for i in range(self.n_features):\n",
    "                X_ = X[y == c, i]\n",
    "                if self.feature_types[i] == 'r':\n",
    "                    param = ContFeatureParam()\n",
    "                elif self.feature_types[i] == 'b':\n",
    "                    param = BinFeatureParam()\n",
    "                elif self.feature_types[i] == 'c':\n",
    "                    num_of_categories = len(np.unique(X_))\n",
    "                    param = CatFeatureParam(num_of_categories)\n",
    "                param.estimate(X_)\n",
    "                class_params.append(param)\n",
    "            self.feature_params.append(class_params)\n",
    "\n",
    "        # print(self.feature_params)\n",
    "        ###################################################\n",
    "        ##### YOUR CODE ENDS HERE #########################\n",
    "        ###################################################\n",
    "                \n",
    "                \n",
    "    # The function takes the data X as input, and predicts the class for the data\n",
    "    def predict(self, X):\n",
    "        # TODO: \n",
    "        # The code below is just for compilation. \n",
    "        # You need to replace it by your own code.\n",
    "        probs = []\n",
    "        for i in range(self.n_classes):\n",
    "            class_probs = np.log(self.class_prior[i])\n",
    "            p = [self.feature_params[i][j].get_log_probability(X[:,j]) for j in range(self.n_features)]\n",
    "            class_probs += np.sum(p, axis=0)\n",
    "            probs.append(class_probs)        \n",
    "        probs = np.array(probs)\n",
    "        return np.argmax(probs, axis=0)\n",
    "\n",
    "        ###################################################\n",
    "        ##### YOUR CODE STARTS HERE #######################\n",
    "        ###################################################\n",
    "        pass\n",
    "        ###################################################\n",
    "        ##### YOUR CODE ENDS HERE #########################\n",
    "        ###################################################\n"
   ]
  },
  {
   "cell_type": "markdown",
   "metadata": {},
   "source": [
    "**Tests**\n",
    "\n",
    "We will use the code below to check your code."
   ]
  },
  {
   "cell_type": "code",
   "execution_count": 52,
   "metadata": {},
   "outputs": [
    {
     "name": "stdout",
     "output_type": "stream",
     "text": [
      "Accuracy: 0.9333333333333333\n",
      "[2 2 2 2 2 2 2 2 2 2 2 2 2 1 1 2 2 2 2 2 2 2 2 2 2 2 2 2 2 2]\n"
     ]
    }
   ],
   "source": [
    "# All features of the iris dataset are continuous.\n",
    "\n",
    "from sklearn.datasets import load_iris\n",
    "iris = load_iris()\n",
    "X, y = iris['data'], iris['target']\n",
    "\n",
    "N, D = X.shape\n",
    "Ntrain = int(0.8 * N)\n",
    "Xtrain = X[:Ntrain]\n",
    "ytrain = y[:Ntrain]\n",
    "Xtest = X[Ntrain:]\n",
    "ytest = y[Ntrain:]\n",
    "\n",
    "\n",
    "nbc_iris = NBC(feature_types=['r', 'r', 'r', 'r'])\n",
    "nbc_iris.fit(Xtrain, ytrain)\n",
    "yhat = nbc_iris.predict(Xtest)\n",
    "test_accuracy = np.mean(yhat == ytest)\n",
    "\n",
    "print(\"Accuracy:\", test_accuracy) # should be larger than 90%\n",
    "print(yhat)"
   ]
  },
  {
   "cell_type": "code",
   "execution_count": 53,
   "metadata": {},
   "outputs": [
    {
     "name": "stdout",
     "output_type": "stream",
     "text": [
      "Accuracy: 0.8723404255319149\n",
      "[1 0 1 1 0 1 1 0 0 1 1 1 0 1 1 1 1 1 0 1 1 0 1 0 0 1 1 1 0 1 1 1 0 1 0 1 0\n",
      " 0 0 1 0 0 0 0 1 1 0]\n"
     ]
    }
   ],
   "source": [
    "# All features of this dataset are binary\n",
    "import pandas as pd\n",
    "data = pd.read_csv('./datasets/binary_test.csv', header=None)\n",
    "data = data.to_numpy()\n",
    "\n",
    "X = data[:,1:]\n",
    "y = data[:,0]\n",
    "\n",
    "N, D = X.shape\n",
    "Ntrain = int(0.8 * N)\n",
    "Xtrain = X[:Ntrain]\n",
    "ytrain = y[:Ntrain]\n",
    "Xtest = X[Ntrain:]\n",
    "ytest = y[Ntrain:]\n",
    "\n",
    "\n",
    "nbc = NBC(feature_types=['b'] * 16)\n",
    "nbc.fit(Xtrain, ytrain)\n",
    "yhat = nbc.predict(Xtest)\n",
    "test_accuracy = np.mean(yhat == ytest)\n",
    "\n",
    "print(\"Accuracy:\", test_accuracy) # should be larger than 85%\n",
    "print(yhat)"
   ]
  },
  {
   "cell_type": "code",
   "execution_count": 54,
   "metadata": {},
   "outputs": [
    {
     "name": "stdout",
     "output_type": "stream",
     "text": [
      "[2 4 3 2 3 4 3 4 4 3 2 4 3 1 2 2 4 1 4 4 5 4 3 2 3 4 1 3 1 4 2 3 4 3 3 4 4\n",
      " 1 2 4 1 3 2 3 2 2 3 2 0 4 3 4 3 2 2 4 3 3]\n",
      "0 2\n",
      "1 4\n",
      "2 3\n",
      "3 2\n",
      "4 3\n",
      "5 4\n",
      "6 3\n",
      "7 4\n",
      "8 4\n",
      "9 3\n",
      "10 2\n",
      "11 4\n",
      "12 3\n",
      "13 1\n",
      "14 2\n",
      "15 2\n",
      "16 4\n",
      "17 1\n",
      "18 4\n",
      "19 4\n",
      "20 5\n"
     ]
    },
    {
     "ename": "IndexError",
     "evalue": "index 5 is out of bounds for axis 1 with size 5",
     "output_type": "error",
     "traceback": [
      "\u001b[0;31m---------------------------------------------------------------------------\u001b[0m",
      "\u001b[0;31mIndexError\u001b[0m                                Traceback (most recent call last)",
      "Cell \u001b[0;32mIn[54], line 19\u001b[0m\n\u001b[1;32m     17\u001b[0m nbc \u001b[38;5;241m=\u001b[39m NBC(feature_types\u001b[38;5;241m=\u001b[39m[\u001b[38;5;124m'\u001b[39m\u001b[38;5;124mc\u001b[39m\u001b[38;5;124m'\u001b[39m] \u001b[38;5;241m*\u001b[39m \u001b[38;5;241m9\u001b[39m)\n\u001b[1;32m     18\u001b[0m nbc\u001b[38;5;241m.\u001b[39mfit(Xtrain, ytrain)\n\u001b[0;32m---> 19\u001b[0m yhat \u001b[38;5;241m=\u001b[39m \u001b[43mnbc\u001b[49m\u001b[38;5;241;43m.\u001b[39;49m\u001b[43mpredict\u001b[49m\u001b[43m(\u001b[49m\u001b[43mXtest\u001b[49m\u001b[43m)\u001b[49m\n\u001b[1;32m     20\u001b[0m test_accuracy \u001b[38;5;241m=\u001b[39m np\u001b[38;5;241m.\u001b[39mmean(yhat \u001b[38;5;241m==\u001b[39m ytest)\n\u001b[1;32m     22\u001b[0m \u001b[38;5;28mprint\u001b[39m(\u001b[38;5;124m\"\u001b[39m\u001b[38;5;124mAccuracy:\u001b[39m\u001b[38;5;124m\"\u001b[39m, test_accuracy) \u001b[38;5;66;03m# should be larger than 65%\u001b[39;00m\n",
      "Cell \u001b[0;32mIn[51], line 63\u001b[0m, in \u001b[0;36mNBC.predict\u001b[0;34m(self, X)\u001b[0m\n\u001b[1;32m     61\u001b[0m \u001b[38;5;28;01mfor\u001b[39;00m i \u001b[38;5;129;01min\u001b[39;00m \u001b[38;5;28mrange\u001b[39m(\u001b[38;5;28mself\u001b[39m\u001b[38;5;241m.\u001b[39mn_classes):\n\u001b[1;32m     62\u001b[0m     class_probs \u001b[38;5;241m=\u001b[39m np\u001b[38;5;241m.\u001b[39mlog(\u001b[38;5;28mself\u001b[39m\u001b[38;5;241m.\u001b[39mclass_prior[i])\n\u001b[0;32m---> 63\u001b[0m     p \u001b[38;5;241m=\u001b[39m [\u001b[38;5;28mself\u001b[39m\u001b[38;5;241m.\u001b[39mfeature_params[i][j]\u001b[38;5;241m.\u001b[39mget_log_probability(X[:,j]) \u001b[38;5;28;01mfor\u001b[39;00m j \u001b[38;5;129;01min\u001b[39;00m \u001b[38;5;28mrange\u001b[39m(\u001b[38;5;28mself\u001b[39m\u001b[38;5;241m.\u001b[39mn_features)]\n\u001b[1;32m     64\u001b[0m     class_probs \u001b[38;5;241m+\u001b[39m\u001b[38;5;241m=\u001b[39m np\u001b[38;5;241m.\u001b[39msum(p, axis\u001b[38;5;241m=\u001b[39m\u001b[38;5;241m0\u001b[39m)\n\u001b[1;32m     65\u001b[0m     probs\u001b[38;5;241m.\u001b[39mappend(class_probs)        \n",
      "Cell \u001b[0;32mIn[51], line 63\u001b[0m, in \u001b[0;36m<listcomp>\u001b[0;34m(.0)\u001b[0m\n\u001b[1;32m     61\u001b[0m \u001b[38;5;28;01mfor\u001b[39;00m i \u001b[38;5;129;01min\u001b[39;00m \u001b[38;5;28mrange\u001b[39m(\u001b[38;5;28mself\u001b[39m\u001b[38;5;241m.\u001b[39mn_classes):\n\u001b[1;32m     62\u001b[0m     class_probs \u001b[38;5;241m=\u001b[39m np\u001b[38;5;241m.\u001b[39mlog(\u001b[38;5;28mself\u001b[39m\u001b[38;5;241m.\u001b[39mclass_prior[i])\n\u001b[0;32m---> 63\u001b[0m     p \u001b[38;5;241m=\u001b[39m [\u001b[38;5;28;43mself\u001b[39;49m\u001b[38;5;241;43m.\u001b[39;49m\u001b[43mfeature_params\u001b[49m\u001b[43m[\u001b[49m\u001b[43mi\u001b[49m\u001b[43m]\u001b[49m\u001b[43m[\u001b[49m\u001b[43mj\u001b[49m\u001b[43m]\u001b[49m\u001b[38;5;241;43m.\u001b[39;49m\u001b[43mget_log_probability\u001b[49m\u001b[43m(\u001b[49m\u001b[43mX\u001b[49m\u001b[43m[\u001b[49m\u001b[43m:\u001b[49m\u001b[43m,\u001b[49m\u001b[43mj\u001b[49m\u001b[43m]\u001b[49m\u001b[43m)\u001b[49m \u001b[38;5;28;01mfor\u001b[39;00m j \u001b[38;5;129;01min\u001b[39;00m \u001b[38;5;28mrange\u001b[39m(\u001b[38;5;28mself\u001b[39m\u001b[38;5;241m.\u001b[39mn_features)]\n\u001b[1;32m     64\u001b[0m     class_probs \u001b[38;5;241m+\u001b[39m\u001b[38;5;241m=\u001b[39m np\u001b[38;5;241m.\u001b[39msum(p, axis\u001b[38;5;241m=\u001b[39m\u001b[38;5;241m0\u001b[39m)\n\u001b[1;32m     65\u001b[0m     probs\u001b[38;5;241m.\u001b[39mappend(class_probs)        \n",
      "Cell \u001b[0;32mIn[47], line 74\u001b[0m, in \u001b[0;36mCatFeatureParam.get_log_probability\u001b[0;34m(self, X_new)\u001b[0m\n\u001b[1;32m     72\u001b[0m \u001b[38;5;28;01mfor\u001b[39;00m i, x \u001b[38;5;129;01min\u001b[39;00m \u001b[38;5;28menumerate\u001b[39m(X_new):\n\u001b[1;32m     73\u001b[0m     \u001b[38;5;28mprint\u001b[39m(i, x)\n\u001b[0;32m---> 74\u001b[0m     \u001b[43mone_hot\u001b[49m\u001b[43m[\u001b[49m\u001b[43mi\u001b[49m\u001b[43m,\u001b[49m\u001b[43m \u001b[49m\u001b[43mx\u001b[49m\u001b[43m]\u001b[49m \u001b[38;5;241m=\u001b[39m \u001b[38;5;241m1\u001b[39m\n\u001b[1;32m     75\u001b[0m \u001b[38;5;28;01mreturn\u001b[39;00m multinomial\u001b[38;5;241m.\u001b[39mlogpmf(x\u001b[38;5;241m=\u001b[39mone_hot, n\u001b[38;5;241m=\u001b[39m\u001b[38;5;241m1\u001b[39m, p\u001b[38;5;241m=\u001b[39m\u001b[38;5;28mself\u001b[39m\u001b[38;5;241m.\u001b[39mp)\n",
      "\u001b[0;31mIndexError\u001b[0m: index 5 is out of bounds for axis 1 with size 5"
     ]
    }
   ],
   "source": [
    "# All features of this dataset are categorical (bonus task)\n",
    "\n",
    "data = pd.read_csv('./datasets/categorical_test.csv', header=None)\n",
    "data = data.to_numpy()\n",
    "\n",
    "X = data[:,:-1]\n",
    "y = data[:,-1]\n",
    "\n",
    "N, D = X.shape\n",
    "Ntrain = int(0.8 * N)\n",
    "Xtrain = X[:Ntrain]\n",
    "ytrain = y[:Ntrain]\n",
    "Xtest = X[Ntrain:]\n",
    "ytest = y[Ntrain:]\n",
    "\n",
    "\n",
    "nbc = NBC(feature_types=['c'] * 9)\n",
    "nbc.fit(Xtrain, ytrain)\n",
    "yhat = nbc.predict(Xtest)\n",
    "test_accuracy = np.mean(yhat == ytest)\n",
    "\n",
    "print(\"Accuracy:\", test_accuracy) # should be larger than 65%\n",
    "print(yhat) "
   ]
  },
  {
   "cell_type": "markdown",
   "metadata": {},
   "source": [
    "## Logistic Regression"
   ]
  },
  {
   "cell_type": "markdown",
   "metadata": {},
   "source": [
    "For logistic regression, you should use the implementation in scikit-learn. Add the following\n",
    "line to import the LR model."
   ]
  },
  {
   "cell_type": "code",
   "execution_count": 13,
   "metadata": {},
   "outputs": [],
   "source": [
    "from sklearn.linear_model import LogisticRegression"
   ]
  },
  {
   "cell_type": "markdown",
   "metadata": {},
   "source": [
    "Check the scikit-learn documentation for the Logistic Regression model:\n",
    "- http://scikit-learn.org/stable/modules/linear_model.html#logistic-regression\n",
    "- http://scikit-learn.org/stable/modules/generated/sklearn.linear_model.LogisticRegression.html#sklearn.linear_model.LogisticRegression\n"
   ]
  },
  {
   "cell_type": "markdown",
   "metadata": {},
   "source": [
    "## Comparing NBC and LR"
   ]
  },
  {
   "cell_type": "markdown",
   "metadata": {},
   "source": [
    "### Experiments\n",
    "\n",
    "The experiment is to compare the classification error of the NBC and LR trained on increasingly larger training datasets. \n",
    "Since the datasets are so small, you should do this multiple times and\n",
    "average the classification error. One run should look as follows:\n",
    "- Shuffle the data, put 20% aside for testing.\n",
    "    \n",
    "    ```N, D = X.shape\n",
    "    Ntrain = int(0.8 * N)\n",
    "    shuffler = np.random.permutation(N)\n",
    "    Xtrain = X[shuffler[:Ntrain]]\n",
    "    ytrain = y[shuffler[:Ntrain]]\n",
    "    Xtest = X[shuffler[Ntrain:]]\n",
    "    ytest = y[shuffler[Ntrain:]]\n",
    "    \n",
    "    ```  \n",
    "\n",
    "\n",
    "- Train the classifiers with increasingly more data. For example, we can train classifiers with 10%, 20%, ..., 100% of the training data. For each case store the classification errors on the test set of the classifiers.\n",
    "\n",
    "You may want to repeat this with at least 200 random permutations (possibly as large as 1000)\n",
    "to average out the test error across the runs. In the end, you will get average test errors as a function of the size of the training data. \n",
    "We have written for you the function for making the plots for the experiments. "
   ]
  },
  {
   "cell_type": "code",
   "execution_count": 12,
   "metadata": {},
   "outputs": [],
   "source": [
    "# inputs:\n",
    "#   nbc: Naive Bayes Classifier\n",
    "#   lr: Logistic Regression Classifier\n",
    "#   X, y: data\n",
    "#   num_runs: we need repeat num_runs times and store average results\n",
    "#   num_splits: we want to compare the two models on increasingly larger training sets.\n",
    "#               num_splits defines the number of increasing steps. \n",
    "# outputs:\n",
    "#   the arrays of the test errors across the runs of the two classifiers \n",
    "def compareNBCvsLR(nbc, lr, X, y, num_runs=200, num_splits=10):\n",
    "    # The code below is just for compilation. \n",
    "    # You need to replace it by your own code.\n",
    "    ###################################################\n",
    "    ##### YOUR CODE STARTS HERE #######################\n",
    "    ###################################################\n",
    "    tst_errs_nbc = []\n",
    "    tst_errs_lr = []\n",
    "    \n",
    "    return tst_errs_nbc, tst_errs_lr\n",
    "    ###################################################\n",
    "    ##### YOUR CODE ENDS HERE #########################\n",
    "    ###################################################"
   ]
  },
  {
   "cell_type": "code",
   "execution_count": 13,
   "metadata": {},
   "outputs": [],
   "source": [
    "def makePlot(nbc_perf, lr_perf, title=None, num_splits=10):\n",
    "    fig = plt.figure()\n",
    "    ax = fig.add_subplot(1, 1, 1)\n",
    "\n",
    "    ax.tick_params(axis='both', labelsize=20)\n",
    "\n",
    "    ax.set_xlabel('Percent of training data used', fontsize=20)\n",
    "    ax.set_ylabel('Classification Error', fontsize=20)\n",
    "    if title is not None: ax.set_title(title, fontsize=25)\n",
    "\n",
    "    xaxis_scale = [(i + 1) * (100/num_splits) for i in range(num_splits)]\n",
    "    plt.plot(xaxis_scale, nbc_perf, label='Naive Bayes')\n",
    "    plt.plot(xaxis_scale, lr_perf, label='Logistic Regression', linestyle='dashed')\n",
    "    \n",
    "    ax.legend(loc='upper right', fontsize=20)"
   ]
  },
  {
   "cell_type": "markdown",
   "metadata": {},
   "source": [
    "### Datasets"
   ]
  },
  {
   "cell_type": "markdown",
   "metadata": {},
   "source": [
    "Tasks: For each dataset,\n",
    "1. Prepare the data for the two classifiers, e.g., handle missing values and the categorical data. When you handle the categorical data, you should check whether the data is ordinal or not. If the data is ordinal, you should encode the data as integers. If the data is not ordinal, you should encode the data as one-hot vectors.\n",
    "2. Show the first 5 rows of the prepared data\n",
    "3. Compare the two classifiers on the dataset and generate the plots\n",
    "\n",
    "The grading will be based on whether the data is correctly prepared and the plots are generated without errors. The grading will not be based on the performance of the classifiers and whether the plots are the same as in the paper. "
   ]
  },
  {
   "cell_type": "markdown",
   "metadata": {},
   "source": [
    "**Dataset 1: Iris Dataset**\n",
    "\n",
    "https://scikit-learn.org/stable/auto_examples/datasets/plot_iris_dataset.html"
   ]
  },
  {
   "cell_type": "code",
   "execution_count": 14,
   "metadata": {},
   "outputs": [],
   "source": [
    "# TODO: insert your code for experiments\n",
    "###################################################\n",
    "##### YOUR CODE STARTS HERE #######################\n",
    "###################################################\n",
    "from sklearn.datasets import load_iris\n",
    "iris = load_iris()\n",
    "\n",
    "\n",
    "###################################################\n",
    "##### YOUR CODE ENDS HERE #########################\n",
    "###################################################"
   ]
  },
  {
   "cell_type": "markdown",
   "metadata": {},
   "source": [
    "**Dataset 2: Voting Dataset**\n",
    "\n",
    "https://archive.ics.uci.edu/ml/datasets/congressional+voting+records\n",
    "\n",
    "The logistic regression line meets the naive bayes line early in the plot. "
   ]
  },
  {
   "cell_type": "code",
   "execution_count": 15,
   "metadata": {},
   "outputs": [
    {
     "name": "stdout",
     "output_type": "stream",
     "text": [
      "<class 'pandas.core.frame.DataFrame'>\n",
      "RangeIndex: 435 entries, 0 to 434\n",
      "Data columns (total 17 columns):\n",
      " #   Column                                  Non-Null Count  Dtype \n",
      "---  ------                                  --------------  ----- \n",
      " 0   label                                   435 non-null    object\n",
      " 1   handicapped-infants                     423 non-null    object\n",
      " 2   water-project-cost-sharing              387 non-null    object\n",
      " 3   adoption-of-the-budget-resolution       424 non-null    object\n",
      " 4   physician-fee-freeze                    424 non-null    object\n",
      " 5   el-salvador-aid                         420 non-null    object\n",
      " 6   religious-groups-in-schools             424 non-null    object\n",
      " 7   anti-satellite-test-ban                 421 non-null    object\n",
      " 8   aid-to-nicaraguan-contras               420 non-null    object\n",
      " 9   mx-missile                              413 non-null    object\n",
      " 10  immigration                             428 non-null    object\n",
      " 11  synfuels-corporation-cutback            414 non-null    object\n",
      " 12  education-spending                      404 non-null    object\n",
      " 13  superfund-right-to-sue                  410 non-null    object\n",
      " 14  crime                                   418 non-null    object\n",
      " 15  duty-free-exports                       407 non-null    object\n",
      " 16  export-administration-act-south-africa  331 non-null    object\n",
      "dtypes: object(17)\n",
      "memory usage: 57.9+ KB\n"
     ]
    }
   ],
   "source": [
    "# load the dataset\n",
    "# TODO: insert your code for experiments\n",
    "###################################################\n",
    "##### YOUR CODE STARTS HERE #######################\n",
    "###################################################\n",
    "voting = pd.read_csv('./datasets/voting.csv')\n",
    "\n",
    "voting.info()\n",
    "\n",
    "###################################################\n",
    "##### YOUR CODE ENDS HERE #########################\n",
    "###################################################"
   ]
  },
  {
   "cell_type": "markdown",
   "metadata": {},
   "source": [
    "**Dataset 3: Breast Cancer Dataset (Bonus Tasks)**\n",
    "\n",
    "https://archive.ics.uci.edu/ml/datasets/breast+cancer\n",
    "\n",
    "The dataset has continues, binary and categorical features. It also has missing values.\n",
    "\n",
    "Hints: You can precompute the size of the domains of the categorical features."
   ]
  },
  {
   "cell_type": "code",
   "execution_count": 17,
   "metadata": {},
   "outputs": [
    {
     "name": "stdout",
     "output_type": "stream",
     "text": [
      "<class 'pandas.core.frame.DataFrame'>\n",
      "RangeIndex: 286 entries, 0 to 285\n",
      "Data columns (total 10 columns):\n",
      " #   Column       Non-Null Count  Dtype \n",
      "---  ------       --------------  ----- \n",
      " 0   Class        286 non-null    object\n",
      " 1   age          286 non-null    object\n",
      " 2   menopause    286 non-null    object\n",
      " 3   tumor-size   286 non-null    object\n",
      " 4   inv-nodes    286 non-null    object\n",
      " 5   node-caps    286 non-null    object\n",
      " 6   deg-malig    286 non-null    int64 \n",
      " 7   breast       286 non-null    object\n",
      " 8   breast-quad  286 non-null    object\n",
      " 9   irradiat     286 non-null    object\n",
      "dtypes: int64(1), object(9)\n",
      "memory usage: 22.5+ KB\n"
     ]
    }
   ],
   "source": [
    "# load the dataset\n",
    "# TODO: insert your code for experiments\n",
    "###################################################\n",
    "##### YOUR CODE STARTS HERE #######################\n",
    "###################################################\n",
    "cancer = pd.read_csv('./datasets/breast-cancer.csv')\n",
    "\n",
    "cancer.info()\n",
    "\n",
    "###################################################\n",
    "##### YOUR CODE ENDS HERE #########################\n",
    "###################################################"
   ]
  },
  {
   "cell_type": "code",
   "execution_count": null,
   "metadata": {},
   "outputs": [],
   "source": []
  }
 ],
 "metadata": {
  "kernelspec": {
   "display_name": "Python 3",
   "language": "python",
   "name": "python3"
  },
  "language_info": {
   "codemirror_mode": {
    "name": "ipython",
    "version": 3
   },
   "file_extension": ".py",
   "mimetype": "text/x-python",
   "name": "python",
   "nbconvert_exporter": "python",
   "pygments_lexer": "ipython3",
   "version": "3.10.14"
  }
 },
 "nbformat": 4,
 "nbformat_minor": 4
}
